{
 "cells": [
  {
   "cell_type": "code",
   "execution_count": 1,
   "metadata": {},
   "outputs": [
    {
     "name": "stdout",
     "output_type": "stream",
     "text": [
      "Installing packages:\n",
      "\t.package(url: \"https://github.com/mxcl/Path.swift\", from: \"0.16.1\")\n",
      "\t\tPath\n",
      "\t.package(url: \"https://github.com/saeta/Just\", from: \"0.7.2\")\n",
      "\t\tJust\n",
      "\t.package(url: \"https://github.com/latenitesoft/NotebookExport\", from: \"0.5.0\")\n",
      "\t\tNotebookExport\n",
      "With SwiftPM flags: []\n",
      "Working in: /tmp/tmp7vxit9w3/swift-install\n",
      "Fetching https://github.com/mxcl/Path.swift\n",
      "Fetching https://github.com/saeta/Just\n",
      "Fetching https://github.com/latenitesoft/NotebookExport\n",
      "Completed resolution in 2.10s\n",
      "Cloning https://github.com/latenitesoft/NotebookExport\n",
      "Resolving https://github.com/latenitesoft/NotebookExport at 0.6.0\n",
      "Cloning https://github.com/mxcl/Path.swift\n",
      "Resolving https://github.com/mxcl/Path.swift at 0.16.3\n",
      "Cloning https://github.com/saeta/Just\n",
      "Resolving https://github.com/saeta/Just at 0.7.3\n",
      "[1/11] Compiling Path Path+StringConvertibles.swift\n",
      "[2/11] Compiling Path Path->Bool.swift\n",
      "[3/11] Compiling Path Path+Codable.swift\n",
      "[4/11] Compiling Path Path+ls.swift\n",
      "[5/11] Compiling Path Path+CommonDirectories.swift\n",
      "[6/11] Compiling Path Extensions.swift\n",
      "[7/11] Compiling Path Path+Attributes.swift\n",
      "[8/11] Compiling Path Path.swift\n",
      "[9/11] Compiling Path Path+FileManager.swift\n",
      "[10/12] Merging module Path\n",
      "[11/16] Compiling NotebookExport DependencyDescription.swift\n",
      "[12/16] Compiling NotebookExport PackageManifest.swift\n",
      "[13/16] Compiling NotebookExport ExtensionUtils.swift\n",
      "[15/17] Merging module Just\n",
      "[16/17] Compiling NotebookExport NotebookExport.swift\n",
      "[17/18] Merging module NotebookExport\n",
      "[18/19] Compiling jupyterInstalledPackages jupyterInstalledPackages.swift\n",
      "[19/20] Merging module jupyterInstalledPackages\n",
      "[20/20] Linking libjupyterInstalledPackages.so\n",
      "Initializing Swift...\n",
      "Installation complete!\n"
     ]
    }
   ],
   "source": [
    "%install-location $cwd/swift-install\n",
    "%install '.package(url: \"https://github.com/mxcl/Path.swift\", from: \"0.16.1\")' Path\n",
    "%install '.package(url: \"https://github.com/saeta/Just\", from: \"0.7.2\")' Just\n",
    "%install '.package(url: \"https://github.com/latenitesoft/NotebookExport\", from: \"0.5.0\")' NotebookExport"
   ]
  },
  {
   "cell_type": "code",
   "execution_count": 2,
   "metadata": {},
   "outputs": [
    {
     "name": "stdout",
     "output_type": "stream",
     "text": [
      "Hello, World!\r\n"
     ]
    }
   ],
   "source": [
    "print(\"Hello, World!\")"
   ]
  },
  {
   "cell_type": "code",
   "execution_count": null,
   "metadata": {},
   "outputs": [],
   "source": []
  }
 ],
 "metadata": {
  "kernelspec": {
   "display_name": "Swift",
   "language": "swift",
   "name": "swift"
  },
  "language_info": {
   "file_extension": ".swift",
   "mimetype": "text/x-swift",
   "name": "swift",
   "version": ""
  }
 },
 "nbformat": 4,
 "nbformat_minor": 2
}
