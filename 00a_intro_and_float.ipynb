{
 "cells": [
  {
   "cell_type": "markdown",
   "metadata": {},
   "source": [
    "# Swift"
   ]
  },
  {
   "cell_type": "markdown",
   "metadata": {},
   "source": [
    "## [Link](https://github.com/fastai/course-v3/blob/master/nbs/swift/00a_intro_and_float.ipynb) to original notebook"
   ]
  },
  {
   "cell_type": "markdown",
   "metadata": {},
   "source": [
    "## Initialize Swift"
   ]
  },
  {
   "cell_type": "code",
   "execution_count": 1,
   "metadata": {},
   "outputs": [
    {
     "name": "stdout",
     "output_type": "stream",
     "text": [
      "Installing packages:\n",
      "\t.package(path: \"/notebooks/fastai_p2_v3/FastaiNotebook_00_load_data\")\n",
      "\t\tFastaiNotebook_00_load_data\n",
      "With SwiftPM flags: []\n",
      "Working in: /tmp/tmp9nk33auy/swift-install\n",
      "Updating https://github.com/mxcl/Path.swift\n",
      "Updating https://github.com/saeta/Just\n",
      "Updating https://github.com/latenitesoft/NotebookExport\n",
      "Completed resolution in 1.09s\n",
      "[1/2] Compiling FastaiNotebook_00_load_data 00_load_data.swift\n",
      "[2/3] Merging module FastaiNotebook_00_load_data\n",
      "[3/4] Compiling jupyterInstalledPackages jupyterInstalledPackages.swift\n",
      "[4/5] Merging module jupyterInstalledPackages\n",
      "[5/5] Linking libjupyterInstalledPackages.so\n",
      "Initializing Swift...\n",
      "Installation complete!\n"
     ]
    }
   ],
   "source": [
    "%install-location $cwd/swift-install\n",
    "%install '.package(path: \"$cwd/FastaiNotebook_00_load_data\")' FastaiNotebook_00_load_data"
   ]
  },
  {
   "cell_type": "markdown",
   "metadata": {},
   "source": [
    "## Import"
   ]
  },
  {
   "cell_type": "code",
   "execution_count": 2,
   "metadata": {},
   "outputs": [],
   "source": [
    "import FastaiNotebook_00_load_data"
   ]
  },
  {
   "cell_type": "markdown",
   "metadata": {},
   "source": [
    "## Generics"
   ]
  },
  {
   "cell_type": "code",
   "execution_count": 3,
   "metadata": {},
   "outputs": [],
   "source": [
    "struct Complex<T : SignedNumeric> {\n",
    "    var real, imag : T\n",
    "    \n",
    "    // This is a read only computed property.\n",
    "    var conj : Complex { return Complex(real: real, imag: -imag) }\n",
    "    \n",
    "    // Here's a computed property with a setter, that returns the imaginary\n",
    "    // component negated, just to show how to do this.  A more realistic\n",
    "    // use case would be to provide a polar coordinate projection.\n",
    "    var imagNegated : T {\n",
    "        get { return -imag }\n",
    "        set { imag = -newValue }\n",
    "    }\n",
    "}"
   ]
  },
  {
   "cell_type": "markdown",
   "metadata": {},
   "source": [
    "## Operator Overloading"
   ]
  },
  {
   "cell_type": "code",
   "execution_count": 4,
   "metadata": {},
   "outputs": [],
   "source": [
    "extension Complex {\n",
    "    static func + (lhs: Complex, rhs: Complex) -> Complex {\n",
    "        return Complex(real: lhs.real + lhs.real, \n",
    "                       imag: lhs.imag + rhs.imag)\n",
    "    }\n",
    "}"
   ]
  },
  {
   "cell_type": "code",
   "execution_count": 5,
   "metadata": {},
   "outputs": [],
   "source": [
    "prefix operator √\n",
    "\n",
    "// Complex square root returns two different complex numbers.\n",
    "prefix func √(value: Complex<Float>) -> (Complex<Float>, Complex<Float>) {\n",
    "    // Implemention omitted - just return the same thing for simplicity.\n",
    "    return (value, value)\n",
    "}"
   ]
  },
  {
   "cell_type": "markdown",
   "metadata": {},
   "source": [
    "## Import Python"
   ]
  },
  {
   "cell_type": "code",
   "execution_count": 6,
   "metadata": {},
   "outputs": [],
   "source": [
    "import Python"
   ]
  },
  {
   "cell_type": "code",
   "execution_count": 7,
   "metadata": {},
   "outputs": [],
   "source": [
    "public let np = Python.import(\"numpy\")\n",
    "public let plt = Python.import(\"matplotlib.pyplot\")"
   ]
  },
  {
   "cell_type": "markdown",
   "metadata": {},
   "source": [
    "### Inline"
   ]
  },
  {
   "cell_type": "code",
   "execution_count": 8,
   "metadata": {},
   "outputs": [
    {
     "data": {
      "text/plain": [
       "('inline', 'module://ipykernel.pylab.backend_inline')\n"
      ]
     },
     "execution_count": 8,
     "metadata": {},
     "output_type": "execute_result"
    }
   ],
   "source": [
    "%include \"EnableIPythonDisplay.swift\"\n",
    "IPythonDisplay.shell.enable_matplotlib(\"inline\")"
   ]
  },
  {
   "cell_type": "code",
   "execution_count": 9,
   "metadata": {},
   "outputs": [
    {
     "ename": "",
     "evalue": "",
     "output_type": "error",
     "traceback": [
      "error: <Cell 9>:1:8: error: no such module 'Builtin'\nimport Builtin\n       ^\n\n"
     ]
    }
   ],
   "source": [
    "import Builtin"
   ]
  },
  {
   "cell_type": "markdown",
   "metadata": {},
   "source": [
    "### Custom Operations"
   ]
  },
  {
   "cell_type": "code",
   "execution_count": 10,
   "metadata": {},
   "outputs": [],
   "source": [
    "extension Int {\n",
    "  var isOdd : Bool { return self & 1 != 0 }\n",
    "}\n",
    "\n",
    "extension Bool {\n",
    "  var symbol : String { return self ? \"👍\" : \"👎\" }\n",
    "}\n"
   ]
  },
  {
   "cell_type": "markdown",
   "metadata": {},
   "source": [
    "## Array"
   ]
  },
  {
   "cell_type": "code",
   "execution_count": 11,
   "metadata": {},
   "outputs": [],
   "source": [
    "var myArray = [1,2,3,4,5,6]"
   ]
  },
  {
   "cell_type": "code",
   "execution_count": 12,
   "metadata": {},
   "outputs": [
    {
     "name": "stdout",
     "output_type": "stream",
     "text": [
      "element: 1\r\n",
      "slice:   [2, 3, 4]\r\n",
      "slice:   [2, 3]\r\n"
     ]
    }
   ],
   "source": [
    "print(\"element:\", myArray[0])\n",
    "print(\"slice:  \", myArray[1...3])  // inclusive - includes \"3\"\n",
    "print(\"slice:  \", myArray[1..<3])  // exclusive"
   ]
  },
  {
   "cell_type": "code",
   "execution_count": 13,
   "metadata": {},
   "outputs": [
    {
     "name": "stdout",
     "output_type": "stream",
     "text": [
      "oddity:    [\"👍\", \"👎\", \"👍\", \"👎\", \"👍\", \"👎\"]\r\n",
      "processed: [3, 9, 15]\r\n"
     ]
    }
   ],
   "source": [
    "print(\"oddity:   \", myArray.map{ $0.isOdd.symbol })\n",
    "print(\"processed:\", myArray.map{ $0*3 }.filter{ $0.isOdd })"
   ]
  },
  {
   "cell_type": "code",
   "execution_count": 14,
   "metadata": {},
   "outputs": [
    {
     "name": "stdout",
     "output_type": "stream",
     "text": [
      "mapped:    [11, 12, 13, 14, 15, 16]\r\n"
     ]
    }
   ],
   "source": [
    "print(\"mapped:   \", myArray.map({ arg in arg + 10 }))"
   ]
  },
  {
   "cell_type": "code",
   "execution_count": 15,
   "metadata": {},
   "outputs": [
    {
     "name": "stdout",
     "output_type": "stream",
     "text": [
      "filtered:  [1, 3, 5]\r\n"
     ]
    }
   ],
   "source": [
    "print(\"filtered: \", myArray.filter({ $0.isOdd }))"
   ]
  },
  {
   "cell_type": "code",
   "execution_count": 16,
   "metadata": {},
   "outputs": [
    {
     "name": "stdout",
     "output_type": "stream",
     "text": [
      "sum:  21\r\n"
     ]
    }
   ],
   "source": [
    "print(\"sum: \", myArray.reduce(0, +))"
   ]
  },
  {
   "cell_type": "markdown",
   "metadata": {},
   "source": [
    "### Extension"
   ]
  },
  {
   "cell_type": "code",
   "execution_count": 17,
   "metadata": {},
   "outputs": [
    {
     "name": "stdout",
     "output_type": "stream",
     "text": [
      "[2, 4, 6]\r\n"
     ]
    }
   ],
   "source": [
    "extension Array where Element : Numeric {\n",
    "    func doubleElements() -> Array {\n",
    "        return self.map { $0 * 2 }\n",
    "    }\n",
    "}\n",
    "\n",
    "print([1,2,3].doubleElements())"
   ]
  },
  {
   "cell_type": "code",
   "execution_count": 18,
   "metadata": {},
   "outputs": [
    {
     "ename": "",
     "evalue": "",
     "output_type": "error",
     "traceback": [
      "error: <Cell 18>:1:27: error: referencing instance method 'doubleElements()' on 'Array' requires that 'Bool' conform to 'Numeric'\nprint([true, false, true].doubleElements())\n                          ^\n\n"
     ]
    }
   ],
   "source": [
    "print([true, false, true].doubleElements())"
   ]
  },
  {
   "cell_type": "code",
   "execution_count": null,
   "metadata": {},
   "outputs": [],
   "source": []
  }
 ],
 "metadata": {
  "kernelspec": {
   "display_name": "Swift",
   "language": "swift",
   "name": "swift"
  },
  "language_info": {
   "file_extension": ".swift",
   "mimetype": "text/x-swift",
   "name": "swift",
   "version": ""
  }
 },
 "nbformat": 4,
 "nbformat_minor": 2
}
