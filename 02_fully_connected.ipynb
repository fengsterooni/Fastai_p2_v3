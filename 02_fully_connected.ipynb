{
 "cells": [
  {
   "cell_type": "markdown",
   "metadata": {},
   "source": [
    "# [Fully connected model](https://github.com/fastai/course-v3/blob/master/nbs/swift/02_fully_connected.ipynb)"
   ]
  },
  {
   "cell_type": "code",
   "execution_count": 1,
   "metadata": {},
   "outputs": [
    {
     "name": "stdout",
     "output_type": "stream",
     "text": [
      "Installing packages:\n",
      "\t.package(path: \"/notebooks/fastai_p2_v3/FastaiNotebook_01a_fastai_layers\")\n",
      "\t\tFastaiNotebook_01a_fastai_layers\n",
      "With SwiftPM flags: []\n",
      "Working in: /tmp/tmpx7a10yk_/swift-install\n",
      "Updating https://github.com/mxcl/Path.swift\n",
      "Updating https://github.com/saeta/Just\n",
      "Updating https://github.com/latenitesoft/NotebookExport\n",
      "Completed resolution in 1.79s\n",
      "[1/4] Compiling FastaiNotebook_01a_fastai_layers 01_matmul.swift\n",
      "[2/4] Compiling FastaiNotebook_01a_fastai_layers 01a_fastai_layers.swift\n",
      "/notebooks/fastai_p2_v3/FastaiNotebook_01a_fastai_layers/Sources/FastaiNotebook_01a_fastai_layers/01a_fastai_layers.swift:241:15: error: type 'FAAvgPool2D<Scalar>.AllDifferentiableVariables' does not conform to protocol 'VectorProtocol'\n",
      "public struct FAAvgPool2D<Scalar: TensorFlowFloatingPoint>: FALayer {\n",
      "              ^\n",
      "/notebooks/fastai_p2_v3/FastaiNotebook_01a_fastai_layers/Sources/FastaiNotebook_01a_fastai_layers/01a_fastai_layers.swift:281:15: error: type 'FAGlobalAvgPool2D<Scalar>.AllDifferentiableVariables' does not conform to protocol 'VectorProtocol'\n",
      "public struct FAGlobalAvgPool2D<Scalar: TensorFlowFloatingPoint>: FALayer {\n",
      "              ^\n",
      "[3/4] Compiling FastaiNotebook_01a_fastai_layers 00_load_data.swift\n"
     ]
    },
    {
     "ename": "",
     "evalue": "",
     "output_type": "error",
     "traceback": [
      "Install Error: swift-build returned nonzero exit code 1."
     ]
    }
   ],
   "source": [
    "%install-location $cwd/swift-install\n",
    "%install '.package(path: \"$cwd/FastaiNotebook_01a_fastai_layers\")' FastaiNotebook_01a_fastai_layers"
   ]
  },
  {
   "cell_type": "code",
   "execution_count": null,
   "metadata": {},
   "outputs": [],
   "source": []
  }
 ],
 "metadata": {
  "kernelspec": {
   "display_name": "Swift",
   "language": "swift",
   "name": "swift"
  },
  "language_info": {
   "file_extension": ".swift",
   "mimetype": "text/x-swift",
   "name": "swift",
   "version": ""
  }
 },
 "nbformat": 4,
 "nbformat_minor": 2
}
